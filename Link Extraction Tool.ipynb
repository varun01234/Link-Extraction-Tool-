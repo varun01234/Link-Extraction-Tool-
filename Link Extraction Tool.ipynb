{
 "cells": [
  {
   "cell_type": "markdown",
   "id": "08a47b1d",
   "metadata": {},
   "source": [
    "# Google Search Automation with Python"
   ]
  },
  {
   "cell_type": "markdown",
   "id": "407843dc",
   "metadata": {},
   "source": [
    "# Overview:\n",
    "\n",
    "This Python script automates Google searches using the googlesearch-python library. It enables users to input a search topic and specify the number of search results to retrieve. The script then fetches the search results from Google and displays them to the user.\n",
    "\n"
   ]
  },
  {
   "cell_type": "markdown",
   "id": "6bd13e67",
   "metadata": {},
   "source": [
    "# Prerequisites:\n",
    "Python installed on the system & Installation of the googlesearch-python library."
   ]
  },
  {
   "cell_type": "code",
   "execution_count": null,
   "id": "4f94da8a",
   "metadata": {},
   "outputs": [],
   "source": [
    "!pip install googlesearch-python"
   ]
  },
  {
   "cell_type": "markdown",
   "id": "fd1bf847",
   "metadata": {},
   "source": [
    "# Function Explanation:\n",
    "\n",
    "The script consists of two main functions:\n",
    "\n",
    "search_topic: This function takes a search topic and an optional parameter for the number of search results to retrieve. It utilizes the search function from the googlesearch module to perform the Google search and returns the search results.\n",
    "\n",
    "main(): This function serves as the entry point of the script. It prompts the user to input the search topic and the number of search results they want. It then calls the search_topic function with the provided inputs and displays the search results."
   ]
  },
  {
   "cell_type": "code",
   "execution_count": 2,
   "id": "d0e03aa9",
   "metadata": {},
   "outputs": [
    {
     "name": "stdout",
     "output_type": "stream",
     "text": [
      " Topic  Namo App Donation issues\n",
      "number of search results you want: 100\n",
      "\n",
      "Top 100 search results for 'Namo App Donation issues':\n",
      "\n",
      "1. https://www.ndtv.com/india-news/pms-namo-app-seeks-donations-for-central-schemes-rti-finds-a-problem-2824218\n",
      "2. https://www.hindustantimes.com/india-news/pm-modi-contributes-rs-2-000-to-bjp-urges-donations-for-nationbuilding-101709458181903.html\n",
      "3. https://medium.com/disfact/narendra-modi-app-has-a-fake-news-problem-d60b514bb8f1\n",
      "4. https://www.businesstoday.in/latest/economy-politics/story/spend-rs-5-on-namo-app-to-meet-prime-minister-narendra-modi-114839-2018-11-29\n",
      "5. https://timesofindia.indiatimes.com/india/pm-modi-contributes-rs-2000-to-bjp-fund-seeks-donations-for-party/articleshow/108186344.cms\n",
      "6. https://www.indiatoday.in/india/story/lok-sabha-elections-pm-modi-donates-rs-2000-as-party-fund-to-bjp-ahead-of-polls-urges-all-to-contribute-2509954-2024-03-03\n",
      "7. https://www.thenewsminute.com/news/namo-app-raises-funds-bjp-uses-names-govt-schemes-legal-161893\n",
      "8. https://m.economictimes.com/news/elections/lok-sabha/india/lok-sabha-polls-bjp-launches-donation-campaign-donation-for-nation-building-for-making-india-viksit-bharat/articleshow/108140934.cms\n",
      "9. https://www.narendramodi.in/en/mobile/privacy-policy\n",
      "10. https://www.hindustantimes.com/india-news/evening-briefing-pm-modi-urges-donations-for-nation-building-kharges-advice-to-rjd-on-nitish-kumar-more-news-101709462793312.html\n",
      "11. https://timesofindia.indiatimes.com/india/namo-app-introduces-micro-donations-platform/articleshow/65860599.cms\n",
      "12. https://www.livemint.com/news/india/pm-modi-donates-rs-2000-to-bjp-urges-for-countrywide-fundraiser-ahead-of-lok-sabha-elections-11709459559665.html\n",
      "13. https://www.threads.net/@gadkari.nitin/post/C3-wcq2vm2g\n",
      "14. https://www.thehindu.com/news/national/namo-app-opens-survey-for-voters/article35832657.ece\n",
      "15. https://m.economictimes.com/news/politics-and-nation/pm-narendra-modi-urges-everyone-to-donate-to-bjp-after-giving-rs-2000/articleshow/108179818.cms\n",
      "16. https://www.linkedin.com/posts/piyushgoyalofficial_donationfornationbuilding-activity-7169332338668109824-hVap\n",
      "17. https://www.india.com/news/india/namo-app-to-allow-those-donating-to-bjp-to-meet-pm-narendra-modi-3453944/\n",
      "18. https://www.business-standard.com/article/politics/modi-urges-people-to-donate-money-to-bjp-through-namo-app-for-transparency-118102301255_1.html\n",
      "19. https://www.narendramodi.in/prime-minister-narendra-modi-interacts-with-bjp-karyakartas-in-varanasi-via-namo-app-559505\n",
      "20. https://www.thehindu.com/news/national/bjp-launches-special-micro-donation-campaign-pm-modi-donates-1000/article38034760.ece\n",
      "21. https://indianexpress.com/article/india/namo-app-asks-for-sweeping-access-camera-audio-among-22-inputs-facebook-data-leak-5111353/\n",
      "22. https://www.financialexpress.com/india-news/pm-narendra-modi-leads-bjps-donation-drive-contributes-rs-1000-through-namo-app/1359368/\n",
      "23. https://www.facebook.com/KirenRijiju/photos/a.633639286757845/4726698374118562/?type=3\n",
      "24. https://apps.apple.com/in/app/narendra-modi/id1016781909\n",
      "25. https://www.business-standard.com/india-news/bjp-leaders-ministers-donate-to-party-fund-for-building-viksit-bharat-124030400873_1.html\n",
      "26. https://apps.apple.com/us/app/narendra-modi/id1016781909\n",
      "27. https://www.facebook.com/narendramodi/photos/a.10156627257580165/10163308788845165/?type=3\n",
      "28. https://www.bbc.com/news/world-asia-india-53151308\n",
      "29. https://www.pmnrf.gov.in/\n",
      "30. https://www.indiatoday.in/india/story/pm-narendra-modi-69th-birthday-namo-app-upgrade-1599725-2019-09-16\n",
      "31. https://theprint.in/politics/modi-wants-your-money-donate-from-rs-5-to-rs-1000-on-namo-app/120304/\n",
      "32. https://www.narendramodi.in/media-coverage/541508\n",
      "33. https://www.pib.gov.in/PressReleasePage.aspx?PRID=1634231\n",
      "34. http://www.pmindia.gov.in/en/\n",
      "35. https://www.narendramodi.in/appeal-to-generously-donate-to-prime-ministers-citizen-assistance-and-relief-in-emergency-situations-fund-pm-cares-fund-549013\n",
      "36. https://en.wikipedia.org/wiki/PM_CARES_Fund\n",
      "37. https://www.cnbctv18.com/tags/namo-app.htm\n",
      "38. https://play.google.com/store/apps/details?id=com.bjp&hl=en&gl=US\n",
      "39. https://ayushmanbhav.mohfw.gov.in/\n",
      "40. https://www.mygov.in/group-issue/inviting-ideas-mann-ki-baat-prime-minister-narendra-modi-25th-july-2021/?field_hashtags_tid=&sort_by=created&sort_order=DESC&page=0%2C2&amp%3Bsort_by=created&amp%3Bsort_order=DESC&amp%3Bpage=0%2C94\n",
      "41. https://www.jansatta.com/national/bjp-fund-campaign-namo-app-narendra-modi-shared-donation-screenshot-lok-sabha-chunav-2024/3239160/\n",
      "42. https://www.india.com/hindi-news/india-hindi/pm-modi-urges-people-to-donate-for-viksit-bharat-mission-through-namo-app-6761579/\n",
      "43. https://www.bjp.org/pressreleases/salient-points-press-conference-honble-union-minister-shri-rajeev-chandrasekhar-0\n",
      "44. https://pmnrf.gov.in/en/online-donation\n",
      "45. https://fcraonline.nic.in/\n",
      "46. https://www.loksatta.com/desh-videsh/pm-modi-donates-money-to-bjp-party-fund-asks-people-to-donate-for-upcoming-loksabha-elections-donors-will-be-exempted-in-tax-svs-99-4240788/\n",
      "47. https://www.financialexpress.com/india-news/now-buy-merchandise-make-micro-donations-and-volunteer-through-namo-app/1318262/\n",
      "48. https://www.mygov.in/group-issue/inviting-ideas-mann-ki-baat-prime-minister-narendra-modi-25th-july-2021/?field_hashtags_tid=&sort_by=created&sort_order=DESC&page=0%2C5&target=inapp&type=group_issue&nid=321441\n",
      "49. https://www.nytimes.com/2021/05/12/business/india-covid-donations.html\n",
      "50. https://www.news9live.com/india/pm-modi-donates-rs-2000-to-bjp-for-viksit-bharat-urges-citizens-to-contribute-for-nation-building-2455559\n",
      "51. https://adrindia.org/content/pm-modi-urges-country-donate-bjp-twitteratis-remind-him-rs-15-lakh\n",
      "52. https://indianexpress.com/article/india/contribute-to-bjp-through-app-for-transparency-says-pm-narendra-modi-5415225/\n",
      "53. https://www.livemint.com/news/india/congress-accuses-modi-govt-of-financial-terrorism-claims-bjp-received-huge-donations-following-i-t-ed-raids-11708602752028.html\n",
      "54. https://hindi.oneindia.com/news/india/pm-modi-namo-app-asking-donation-for-central-government-scheme-669724.html\n",
      "55. https://www.reddit.com/r/india/comments/t7ttb3/provision_to_collect_donation_in_namo_app_for/\n",
      "56. https://www.bjp.org/speeches/salient-points-speech-honble-bjp-national-president-shri-jp-nadda-while-addressing-65\n",
      "57. https://newsonair.gov.in/News?title=PM-Modi-urges-citizens-to-take-JANMAN-Survey-on-NaMo-app&id=474372\n",
      "58. https://paradipport.gov.in/Writereaddata/Video/News.aspx?app=2024-01-30-3snz6ckf23%E0%A4%B8%E0%A5%8D%E0%A4%AA%E0%A5%80%E0%A4%A1%20%E0%A4%B2%E0%A5%82%E0%A4%A1%E0%A5%8B:%20%E0%A4%96%E0%A5%87%E0%A4%B2%E0%A5%87%E0%A4%82%20%E0%A4%94%E0%A4%B0%20%E0%A4%95%E0%A5%88%E0%A4%B6%20%E0%A4%95%E0%A4%AE%E0%A4%BE%E0%A4%8F%E0%A4%82.ppt\n",
      "59. https://www.republicworld.com/india/pm-modi-contributes-rs-2000-for-viksit-bharat-mission-urges-donations-for-nation-building/\n",
      "60. https://www.thehansindia.com/news/national/modi-donates-rs-2000-as-party-fund-to-bjp-862413\n",
      "61. https://www.ndtv.com/india-news/pm-narendra-modi-seeks-feedback-on-his-namo-app-mahagathbandhan-features-in-survey-1977346\n",
      "62. https://www.theindiacable.com/p/sbi-disobeys-supreme-court-on-electoral\n",
      "63. https://www.indiaherald.com/Politics/Read/994684652/PM-Modi-calls-for-donations-for-country-building\n",
      "64. https://www.narendramodi.in/prime-minister-narendra-modi-hails-those-who-donated-blood-on-raktdaan-amrit-mohotsav-571143\n",
      "65. https://www.deccanchronicle.com/nation/current-affairs/140119/in-pre-poll-survey-on-namo-app-pm-modi-seeks-feedback-from-citizens.html\n",
      "66. https://ndma.gov.in/\n",
      "67. https://www.telegraphindia.com/india/namo-sells-new-india-but-no-petrol-yet/cid/1669348\n",
      "68. https://www.pmindia.gov.in/en/news_updates/appeal-to-generously-donate-to-pms-citizen-assistance-and-relief-in-emergency-situations-fund-pm-cares-fund/\n",
      "69. http://police.bihar.gov.in/Android-90s-video-v-8-35.html\n",
      "70. https://www.thequint.com/news/india/modi-shah-urge-people-to-donate-to-bjp-through-narendra-modi-app\n",
      "71. https://newsonair.gov.in/tamil/Text-Bulletin-Details.aspx?id=43360\n",
      "72. https://keralakaumudi.com/en/news/news.php?id=1260803&u=\n",
      "73. https://www.thehindubusinessline.com/economy/pm-modi-inaugurates-15400-crore-metro-projects-across-india/article67920694.ece\n",
      "74. https://www.aninews.in/news/national/general-news/namo-app-to-connect-with-volunteers201809182127200001\n",
      "75. https://www.india.gov.in/news_lists?a589334449\n",
      "76. https://www.altnews.in/after-namo-app-expose-privacy-policy-on-narendra-modis-website-makes-a-quiet-u-turn/\n",
      "77. https://newsable.asianetnews.com/india/pm-modi-contributes-rs-2000-for-viksit-bharat-mission-urges-people-to-donate-for-nation-building--s9rmvi\n",
      "78. https://argusnews.in/article/national/union-minister-jitendra-singh-unveils-inspace-technical-centre\n",
      "79. https://www.iittp.ac.in/\n",
      "80. https://www.cnci.ac.in/\n",
      "81. https://www.dawn.com/news/1819806/modi-to-visit-india-occupied-kashmir-first-time-since-special-status-revoked\n",
      "82. https://www.deccanchronicle.com/nation/current-affairs/140119/in-pre-poll-survey-on-namo-app-pm-modi-seeks-feedback-from-citizens.html\n",
      "83. https://ndma.gov.in/\n",
      "84. https://www.telegraphindia.com/india/namo-sells-new-india-but-no-petrol-yet/cid/1669348\n",
      "85. https://www.pmindia.gov.in/en/news_updates/appeal-to-generously-donate-to-pms-citizen-assistance-and-relief-in-emergency-situations-fund-pm-cares-fund/\n",
      "86. http://police.bihar.gov.in/Android-90s-video-v-8-35.html\n",
      "87. https://www.thequint.com/news/india/modi-shah-urge-people-to-donate-to-bjp-through-narendra-modi-app\n",
      "88. https://newsonair.gov.in/tamil/Text-Bulletin-Details.aspx?id=43360\n",
      "89. https://keralakaumudi.com/en/news/news.php?id=1260803&u=\n",
      "90. https://www.thehindubusinessline.com/economy/pm-modi-inaugurates-15400-crore-metro-projects-across-india/article67920694.ece\n",
      "91. https://www.aninews.in/news/national/general-news/namo-app-to-connect-with-volunteers201809182127200001\n",
      "92. https://www.india.gov.in/news_lists?a589334449\n",
      "93. https://www.altnews.in/after-namo-app-expose-privacy-policy-on-narendra-modis-website-makes-a-quiet-u-turn/\n",
      "94. https://argusnews.in/article/national/union-minister-jitendra-singh-unveils-inspace-technical-centre\n",
      "95. https://www.iittp.ac.in/\n",
      "96. https://www.cnci.ac.in/\n",
      "97. https://www.dawn.com/news/1819806/modi-to-visit-india-occupied-kashmir-first-time-since-special-status-revoked\n",
      "98. https://www.pewresearch.org/topics/\n",
      "99. https://article-14.com/post/modi-govt-warns-2-ngos-seeking-donations-from-citizens-letters-show-63acfab0a50be\n",
      "100. https://newsable.asianetnews.com/india/pm-modi-contributes-rs-2000-for-viksit-bharat-mission-urges-people-to-donate-for-nation-building--s9rmvi\n"
     ]
    }
   ],
   "source": [
    "from googlesearch import search\n",
    "\n",
    "def search_topic(topic, num_results=5):\n",
    "    search_results = search(topic, num_results=num_results)\n",
    "    return search_results\n",
    "\n",
    "def main():\n",
    "    topic = input(\" Topic  \")\n",
    "    num_results = int(input(\"number of search results you want: \"))\n",
    "    search_results = search_topic(topic, num_results)\n",
    "    \n",
    "    if search_results:\n",
    "        print(f\"\\nTop {num_results} search results for '{topic}':\\n\")\n",
    "        for i, link in enumerate(search_results, 1):\n",
    "            print(f\"{i}. {link}\")\n",
    "    else:\n",
    "        print(\"No search results found.\")\n",
    "\n",
    "if __name__ == \"__main__\":\n",
    "    main()\n"
   ]
  },
  {
   "cell_type": "markdown",
   "id": "7e792e7c",
   "metadata": {},
   "source": [
    "#### Upon Execution:\n",
    "The script prompts the user to input the search topic and the number of search results.\n",
    "It then retrieves the search results from Google and displays them to the user.\n",
    "If search results are found, it prints the top search results along with their URLs.\n",
    "If no search results are found, it prints a message indicating the absence of results."
   ]
  },
  {
   "cell_type": "markdown",
   "id": "85a2e11c",
   "metadata": {},
   "source": [
    "## Conclusion:\n",
    "Overall, this script provides a convenient way to automate Google searches in Python, enhancing productivity and facilitating information retrieval tasks."
   ]
  }
 ],
 "metadata": {
  "kernelspec": {
   "display_name": "Python 3 (ipykernel)",
   "language": "python",
   "name": "python3"
  },
  "language_info": {
   "codemirror_mode": {
    "name": "ipython",
    "version": 3
   },
   "file_extension": ".py",
   "mimetype": "text/x-python",
   "name": "python",
   "nbconvert_exporter": "python",
   "pygments_lexer": "ipython3",
   "version": "3.9.12"
  }
 },
 "nbformat": 4,
 "nbformat_minor": 5
}
